{
 "cells": [
  {
   "cell_type": "code",
   "execution_count": 1,
   "id": "420cd816",
   "metadata": {},
   "outputs": [],
   "source": [
    "import os\n",
    "os.chdir('../src/cli')"
   ]
  },
  {
   "cell_type": "code",
   "execution_count": 2,
   "id": "2b843d39",
   "metadata": {},
   "outputs": [],
   "source": [
    "import torch\n",
    "from torch.utils.data import Dataset\n",
    "from src.models.custom_dataset import create_dataloaders"
   ]
  },
  {
   "cell_type": "code",
   "execution_count": 3,
   "id": "af620e6e",
   "metadata": {},
   "outputs": [
    {
     "name": "stdout",
     "output_type": "stream",
     "text": [
      "Making new dataloader...\n"
     ]
    }
   ],
   "source": [
    "train_dataloader, _, _ = create_dataloaders(image_dir='../../data/raw/',\n",
    "                                               batch_size=64,\n",
    "                                               num_classes=3,\n",
    "                                               val_proportion=0.15,\n",
    "                                               test_proportion=0.15, )"
   ]
  },
  {
   "cell_type": "code",
   "execution_count": 4,
   "id": "7c7a3bb7",
   "metadata": {},
   "outputs": [
    {
     "name": "stdout",
     "output_type": "stream",
     "text": [
      "class_frequencies:tensor([ 879., 1451.,  386.])\n"
     ]
    }
   ],
   "source": [
    "total_samples = len(train_dataloader.dataset)\n",
    "class_frequencies = torch.zeros(3)\n",
    "\n",
    "for data_batch, labels_batch in train_dataloader:\n",
    "    class_frequencies += labels_batch.sum(dim=0)\n",
    "\n",
    "print(f\"class_frequencies:{class_frequencies}\")\n",
    "class_weights = total_samples / (class_frequencies + 1e-10) "
   ]
  },
  {
   "cell_type": "code",
   "execution_count": 5,
   "id": "876aa07d",
   "metadata": {},
   "outputs": [
    {
     "name": "stdout",
     "output_type": "stream",
     "text": [
      "tensor([ 4.7782,  2.8946, 10.8808])\n"
     ]
    }
   ],
   "source": [
    "print(class_weights)"
   ]
  },
  {
   "cell_type": "code",
   "execution_count": null,
   "id": "ea3d73f4",
   "metadata": {},
   "outputs": [],
   "source": [
    "def evaluate_disbalance(dataloader):\n",
    "    total_samples = len(dataloader.dataset)\n",
    "    class_frequencies = torch.zeros(3)\n",
    "\n",
    "    for data_batch, labels_batch in dataloader:\n",
    "        class_frequencies += labels_batch.sum(dim=0)\n",
    "        \n",
    "    class_weights = total_samples / (class_frequencies + 1e-10)\n",
    "    return torch.Tensor(class_weights)"
   ]
  },
  {
   "cell_type": "code",
   "execution_count": null,
   "id": "3bace0d3",
   "metadata": {},
   "outputs": [],
   "source": [
    "model = models.swin_b(weights=models.Swin_B_Weights.DEFAULT)\n",
    "    model.fc = torch.nn.Linear(model.fc.in_features, num_classes)"
   ]
  }
 ],
 "metadata": {
  "kernelspec": {
   "display_name": "Python 3 (ipykernel)",
   "language": "python",
   "name": "python3"
  },
  "language_info": {
   "codemirror_mode": {
    "name": "ipython",
    "version": 3
   },
   "file_extension": ".py",
   "mimetype": "text/x-python",
   "name": "python",
   "nbconvert_exporter": "python",
   "pygments_lexer": "ipython3",
   "version": "3.9.16"
  }
 },
 "nbformat": 4,
 "nbformat_minor": 5
}
